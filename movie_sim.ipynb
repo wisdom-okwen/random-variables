{
 "cells": [
  {
   "cell_type": "code",
   "execution_count": 1,
   "metadata": {},
   "outputs": [],
   "source": [
    "import numpy as np\n",
    "import matplotlib.pyplot as plt\n",
    "from matplotlib.animation import FuncAnimation\n",
    "from moviepy.editor import VideoClip\n",
    "from moviepy.video.io.bindings import mplfig_to_npimage\n",
    "import numpy as np\n",
    "import matplotlib.pyplot as plt\n"
   ]
  },
  {
   "cell_type": "code",
   "execution_count": 2,
   "metadata": {},
   "outputs": [
    {
     "data": {
      "image/png": "[encoded data removed]",
      "text/plain": [
       "<Figure size 640x480 with 1 Axes>"
      ]
     },
     "metadata": {},
     "output_type": "display_data"
    }
   ],
   "source": [
    "\n",
    "\n",
    "# Define the coordinates for the start and end points\n",
    "lat1, lon1 = 40.6413, -73.7781  # JFK Airport, New York\n",
    "lat2, lon2 = 51.4700, -0.4543   # Heathrow, London\n",
    "\n",
    "# Interpolate positions\n",
    "num_points = 100\n",
    "latitudes = np.linspace(lat1, lat2, num=num_points)\n",
    "longitudes = np.linspace(lon1, lon2, num=num_points)\n",
    "\n",
    "# Set up the figure and axis\n",
    "fig, ax = plt.subplots()\n",
    "line, = ax.plot([], [], 'ro-', alpha=0.8)  # Line plot\n",
    "ax.set_xlim(min(lon1, lon2) - 5, max(lon1, lon2) + 5)\n",
    "ax.set_ylim(min(lat1, lat2) - 5, max(lat1, lat2) + 5)\n",
    "ax.set_xlabel('Longitude')\n",
    "ax.set_ylabel('Latitude')\n",
    "\n",
    "# Initialization function: plot the background of each frame\n",
    "def init():\n",
    "    line.set_data([], [])\n",
    "    return line,\n",
    "\n",
    "# Animation function: this is called sequentially\n",
    "def animate(i):\n",
    "    x = longitudes[:i]\n",
    "    y = latitudes[:i]\n",
    "    line.set_data(x, y)\n",
    "    return line,\n",
    "\n",
    "# Create animation\n",
    "anim = FuncAnimation(fig, animate, init_func=init, frames=num_points, interval=50, blit=True)\n",
    "\n",
    "# To show the animation in a Jupyter notebook\n",
    "plt.show()\n",
    "\n",
    "# To save the animation as an mp4 video file\n",
    "anim.save('flight_path_animation.mp4', writer='ffmpeg', fps=30)\n",
    "\n"
   ]
  },
  {
   "cell_type": "code",
   "execution_count": 3,
   "metadata": {},
   "outputs": [
    {
     "name": "stdout",
     "output_type": "stream",
     "text": [
      "Moviepy - Building video moving_dot.mp4.\n",
      "Moviepy - Writing video moving_dot.mp4\n",
      "\n"
     ]
    },
    {
     "name": "stderr",
     "output_type": "stream",
     "text": [
      "                                                            "
     ]
    },
    {
     "name": "stdout",
     "output_type": "stream",
     "text": [
      "Moviepy - Done !\n",
      "Moviepy - video ready moving_dot.mp4\n"
     ]
    },
    {
     "name": "stderr",
     "output_type": "stream",
     "text": [
      "\r"
     ]
    },
    {
     "ename": "",
     "evalue": "",
     "output_type": "error",
     "traceback": [
      "\u001b[1;31mThe Kernel crashed while executing code in the current cell or a previous cell. \n",
      "\u001b[1;31mPlease review the code in the cell(s) to identify a possible cause of the failure. \n",
      "\u001b[1;31mClick <a href='https://aka.ms/vscodeJupyterKernelCrash'>here</a> for more info. \n",
      "\u001b[1;31mView Jupyter <a href='command:jupyter.viewOutput'>log</a> for further details."
     ]
    }
   ],
   "source": [
    "\n",
    "# Define a function to draw a frame\n",
    "def make_frame(t):\n",
    "    fig, ax = plt.subplots()\n",
    "    ax.set_xlim(0, 10)\n",
    "    ax.set_ylim(0, 10)\n",
    "    ax.plot(10 * t, 5, 'ro')\n",
    "    plt.close(fig)\n",
    "    return mplfig_to_npimage(fig)  # Converts Matplotlib plot to an image frame\n",
    "\n",
    "# Create a video clip\n",
    "clip = VideoClip(make_frame, duration=3)  # 3 seconds video\n",
    "\n",
    "# Write the video file to disk\n",
    "clip.write_videofile('moving_dot.mp4', fps=24)\n"
   ]
  }
 ],
 "metadata": {
  "kernelspec": {
   "display_name": "Python 3",
   "language": "python",
   "name": "python3"
  },
  "language_info": {
   "codemirror_mode": {
    "name": "ipython",
    "version": 3
   },
   "file_extension": ".py",
   "mimetype": "text/x-python",
   "name": "python",
   "nbconvert_exporter": "python",
   "pygments_lexer": "ipython3",
   "version": "3.10.6"
  }
 },
 "nbformat": 4,
 "nbformat_minor": 2
}
